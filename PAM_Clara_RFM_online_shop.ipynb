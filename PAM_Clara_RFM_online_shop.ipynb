{
  "cells": [
    {
      "cell_type": "code",
      "execution_count": null,
      "metadata": {
        "id": "3XeCkRjrZDz4"
      },
      "outputs": [],
      "source": [
        "import pandas as pd\n",
        "import numpy as np\n",
        "import matplotlib.pyplot as plt\n",
        "from mpl_toolkits.mplot3d import Axes3D  # For 3D plotting\n",
        "import matplotlib.patches as mpatches\n",
        "plt.rcParams['figure.dpi'] = 120\n",
        "from PAM import *\n",
        "from CLARA import *\n",
        "from scipy import stats\n",
        "from sklearn.preprocessing import StandardScaler\n",
        "\n",
        "def descriptive_statistics(df):\n",
        "  kurtosis = df.kurtosis(axis=0)+3 # +3 because default is excess kurtosis\n",
        "  skewness = df.skew(axis=0)\n",
        "  description = df.describe()\n",
        "  description.loc['kurtosis'] = kurtosis\n",
        "  description.loc['skewness'] = skewness\n",
        "  display(description.apply(lambda s: s.apply('{0:.4f}'.format)))\n",
        "  return description"
      ]
    },
    {
      "cell_type": "markdown",
      "metadata": {
        "id": "iQTSGwvJaQA6"
      },
      "source": [
        "### Start Pre-processing"
      ]
    },
    {
      "cell_type": "code",
      "execution_count": null,
      "metadata": {
        "colab": {
          "base_uri": "https://localhost:8080/",
          "height": 426
        },
        "id": "kq2aKxISZOmU",
        "outputId": "dc065450-5a3e-4605-e3b6-b8395902fa75"
      },
      "outputs": [],
      "source": [
        "path_to_file='./OnlineRetail.csv'\n",
        "df=pd.read_csv(path_to_file,encoding='latin1').dropna() ## had NaN data in some of the customer Ids\n",
        "df.head(5)"
      ]
    },
    {
      "cell_type": "code",
      "execution_count": null,
      "metadata": {
        "id": "d8aBXhVZeOye"
      },
      "outputs": [],
      "source": [
        "df['InvoiceDate'] = pd.to_datetime(df['InvoiceDate'], format='%d-%m-%Y %H:%M') ## to datetime\n",
        "df.drop(['StockCode','Description','Country'],axis = 1, inplace =True) ## unecessary columns\n",
        "df['CustomerID']=df['CustomerID'].astype(int)"
      ]
    },
    {
      "cell_type": "code",
      "execution_count": null,
      "metadata": {
        "colab": {
          "base_uri": "https://localhost:8080/"
        },
        "id": "_QaJIc4VZUYR",
        "outputId": "39cb3198-4151-468a-a37d-44e1b0d14e22"
      },
      "outputs": [],
      "source": [
        "df.info()"
      ]
    },
    {
      "cell_type": "code",
      "execution_count": null,
      "metadata": {
        "colab": {
          "base_uri": "https://localhost:8080/",
          "height": 363
        },
        "id": "y6jLDyLba2ot",
        "outputId": "a5e9615b-68f7-4144-9fd5-bb99c7bd0c9c"
      },
      "outputs": [],
      "source": [
        "df_descript=descriptive_statistics(df[['UnitPrice','Quantity']])"
      ]
    },
    {
      "cell_type": "code",
      "execution_count": null,
      "metadata": {
        "colab": {
          "base_uri": "https://localhost:8080/",
          "height": 53
        },
        "id": "T-HN5Xj8ewEh",
        "outputId": "fc64d9b7-3877-471c-d7d8-604636e4be1e"
      },
      "outputs": [],
      "source": [
        "df[df['CustomerID'].isna()]"
      ]
    },
    {
      "cell_type": "code",
      "execution_count": null,
      "metadata": {
        "colab": {
          "base_uri": "https://localhost:8080/",
          "height": 363
        },
        "id": "KYVqcvjDb5UU",
        "outputId": "919eb121-fcca-4661-c71b-146858715acf"
      },
      "outputs": [],
      "source": [
        "df=df[(df['UnitPrice']>0) & (df['Quantity']>0)] #remove negative pricing and quantity which is clearly wrong\n",
        "df_descript=descriptive_statistics(df[['UnitPrice','Quantity']])"
      ]
    },
    {
      "cell_type": "code",
      "execution_count": null,
      "metadata": {
        "colab": {
          "base_uri": "https://localhost:8080/",
          "height": 817
        },
        "id": "Burvnx1YdHIc",
        "outputId": "f1ecba69-a741-4a8b-963f-20aceef5f5a3"
      },
      "outputs": [],
      "source": [
        "import plotly.express as px\n",
        "\n",
        "# Assuming df is your DataFrame\n",
        "top_customers = df['CustomerID'].value_counts().nlargest(5)\n",
        "\n",
        "# Convert CustomerID to string to ensure categorical plotting\n",
        "fig = px.bar(top_customers, x=top_customers.index.astype(str), y=top_customers.values,\n",
        "             labels={'x': 'Customer ID', 'y': 'Number of Orders'},\n",
        "             title='Top 5 Customers by Number of Orders',\n",
        "             width=800,height=800,color_discrete_sequence=['#4eba67'])\n",
        "\n",
        "# Customize the layout for better readability\n",
        "fig.update_layout(xaxis_type='category')\n",
        "fig.show()\n"
      ]
    },
    {
      "cell_type": "code",
      "execution_count": null,
      "metadata": {
        "colab": {
          "base_uri": "https://localhost:8080/",
          "height": 817
        },
        "id": "iM40Gog9diet",
        "outputId": "f12f40b2-fe64-41d3-9a62-9eb8426c87f8"
      },
      "outputs": [],
      "source": [
        "# which month is more \"active\"\n",
        "# Create a month column\n",
        "df.loc[:,'Month'] = df['InvoiceDate'].copy().dt.month\n",
        "\n",
        "# Count orders per month\n",
        "orders_per_month = df['Month'].value_counts().sort_index()\n",
        "\n",
        "# Create the bar chart\n",
        "fig = px.bar(orders_per_month, x=orders_per_month.index, y=orders_per_month.values,\n",
        "             labels={'x': 'Month', 'y': 'Number of Orders'},\n",
        "             title='Monthly Order Activity',\n",
        "             width=800, height=800,color_discrete_sequence=['#4eba67'])\n",
        "fig.show()"
      ]
    },
    {
      "cell_type": "code",
      "execution_count": null,
      "metadata": {
        "colab": {
          "base_uri": "https://localhost:8080/",
          "height": 247
        },
        "id": "M6MjiuMeg0co",
        "outputId": "6d0b65bb-bcae-4114-cef8-b1bf807f5bc3"
      },
      "outputs": [],
      "source": [
        "### RFM features ###\n",
        "\n",
        "import pandas as pd\n",
        "from datetime import datetime\n",
        "\n",
        "# Monetary\n",
        "df['TotalPrice'] = df['Quantity'] * df['UnitPrice']\n",
        "\n",
        "# The most recent date in the dataset\n",
        "snapshot_date = df['InvoiceDate'].max() + pd.DateOffset(days=1)\n",
        "\n",
        "# Aggregate data by each customer\n",
        "rfm = df.groupby('CustomerID').agg({\n",
        "    'InvoiceDate': lambda x: (snapshot_date - x.max()).days,  # Recency\n",
        "    'InvoiceNo': 'nunique',  # Frequency\n",
        "    'TotalPrice': 'sum'  # Monetary Value\n",
        "})\n",
        "\n",
        "# Rename columns\n",
        "rfm.rename(columns={'InvoiceDate': 'Recency',\n",
        "                    'InvoiceNo': 'Frequency',\n",
        "                    'TotalPrice': 'MonetaryValue'}, inplace=True)\n",
        "\n",
        "# Check the first few rows of the data\n",
        "display(rfm.head())\n"
      ]
    },
    {
      "cell_type": "code",
      "execution_count": null,
      "metadata": {
        "colab": {
          "base_uri": "https://localhost:8080/",
          "height": 533
        },
        "id": "_DTjHwuWjy9x",
        "outputId": "497e81db-51f1-499f-9198-ae851692c7b2"
      },
      "outputs": [],
      "source": [
        "rfm_descript=descriptive_statistics(rfm)"
      ]
    },
    {
      "cell_type": "code",
      "execution_count": null,
      "metadata": {
        "colab": {
          "base_uri": "https://localhost:8080/",
          "height": 1000
        },
        "id": "SGGNX1ftkJSD",
        "outputId": "a5819414-8689-47b6-9b3d-6d9299f4a1f5"
      },
      "outputs": [],
      "source": [
        "# Histogram for Recency\n",
        "fig = px.histogram(rfm, x='Recency',\n",
        "                   title='Distribution of Recency',\n",
        "                   labels={'Recency': 'Recency (Days)'},\n",
        "                   nbins=30,  # Adjust the number of bins as needed\n",
        "                   width=800, height=800,color_discrete_sequence=['#4eba67'] )\n",
        "fig.update_layout(bargap=0.2)\n",
        "fig.show()\n",
        "\n",
        "# Histogram for Frequency\n",
        "fig = px.histogram(rfm, x='Frequency',\n",
        "                   title='Distribution of Frequency',\n",
        "                   labels={'Frequency': 'Frequency (Number of Purchases)'},\n",
        "                   nbins=30,  # Adjust the number of bins as needed\n",
        "                   width=800, height=800,color_discrete_sequence=['#4eba67'])\n",
        "fig.update_layout(bargap=0.2)\n",
        "fig.show()\n",
        "\n",
        "# Histogram for Monetary Value\n",
        "fig = px.histogram(rfm, x='MonetaryValue',\n",
        "                   title='Distribution of Monetary Value',\n",
        "                   labels={'MonetaryValue': 'Monetary Value (Total Spend)'},\n",
        "                   nbins=30,  # Adjust the number of bins as needed\n",
        "                   width=800, height=800,color_discrete_sequence=['#4eba67'])\n",
        "fig.update_layout(bargap=0.2)\n",
        "fig.show()\n",
        "\n"
      ]
    },
    {
      "cell_type": "code",
      "execution_count": null,
      "metadata": {
        "colab": {
          "base_uri": "https://localhost:8080/",
          "height": 1000
        },
        "id": "ZhO-cNnfk25C",
        "outputId": "c71bf2ff-0137-4df0-dafa-02af2fa3a647"
      },
      "outputs": [],
      "source": [
        "# Violin plot for Recency\n",
        "fig = px.violin(rfm, y='Recency',\n",
        "                box=True,  # shows box plot inside the violin\n",
        "                points='all',  # shows all points\n",
        "                title='Violin Plot of Recency',\n",
        "                labels={'Recency': 'Recency (Days)'},\n",
        "                width=800, height=800,color_discrete_sequence=['#4eba67']\n",
        "               )\n",
        "fig.update_traces(box_visible=True, box_fillcolor='#cf8a13')\n",
        "\n",
        "fig.show()\n",
        "\n",
        "# Violin plot for Frequency\n",
        "fig = px.violin(rfm, y='Frequency',\n",
        "                box=True,\n",
        "                points='all',\n",
        "                title='Violin Plot of Frequency',\n",
        "                labels={'Frequency': 'Frequency (Number of Purchases)'},\n",
        "                width=800, height=800,color_discrete_sequence=['#4eba67']\n",
        "               )\n",
        "fig.update_traces(box_visible=True, box_fillcolor='#cf8a13')\n",
        "\n",
        "fig.show()\n",
        "\n",
        "# Violin plot for Monetary Value\n",
        "fig = px.violin(rfm, y='MonetaryValue',\n",
        "                box=True,\n",
        "                points='all',\n",
        "                title='Violin Plot of Monetary Value',\n",
        "                labels={'MonetaryValue': 'Monetary Value (Total Spend)'},\n",
        "                width=800, height=800,color_discrete_sequence=['#4eba67']\n",
        "               )\n",
        "fig.update_traces(box_visible=True, box_fillcolor='#cf8a13')\n",
        "\n",
        "fig.show()\n",
        "\n"
      ]
    },
    {
      "cell_type": "markdown",
      "metadata": {
        "id": "9p2cEBN4o90x"
      },
      "source": [
        "#### Data scaling for clustering"
      ]
    },
    {
      "cell_type": "code",
      "execution_count": null,
      "metadata": {
        "colab": {
          "base_uri": "https://localhost:8080/",
          "height": 238
        },
        "id": "e0DWlQHQlwsc",
        "outputId": "c089df62-41e4-4487-dc60-442bd5a56054"
      },
      "outputs": [],
      "source": [
        "# Assuming 'rfm' is your DataFrame\n",
        "scaler = StandardScaler()\n",
        "\n",
        "# Fit and transform the data\n",
        "rfm_scaled = scaler.fit_transform(rfm)\n",
        "\n",
        "# Convert the scaled data back to a DataFrame\n",
        "rfm_scaled_df = pd.DataFrame(rfm_scaled, index=rfm.index, columns=rfm.columns)\n",
        "\n",
        "# Display the first few rows of the scaled data\n",
        "display(rfm_scaled_df.head())"
      ]
    },
    {
      "cell_type": "code",
      "execution_count": null,
      "metadata": {
        "colab": {
          "base_uri": "https://localhost:8080/",
          "height": 1000
        },
        "id": "cHigIf0HpCVY",
        "outputId": "c341305f-2187-439b-928e-0fbca5a362e6"
      },
      "outputs": [],
      "source": [
        "# Violin plot for Recency\n",
        "fig = px.violin(rfm_scaled_df, y='Recency',\n",
        "                box=True,  # shows box plot inside the violin\n",
        "                points='all',  # shows all points\n",
        "                title='Violin Plot of Recency',\n",
        "                labels={'Recency': 'Recency (Days)'},\n",
        "                width=800, height=800,color_discrete_sequence=['#4eba67']\n",
        "               )\n",
        "fig.update_traces(box_visible=True, box_fillcolor='#cf8a13')\n",
        "\n",
        "fig.show()\n",
        "\n",
        "# Violin plot for Frequency\n",
        "fig = px.violin(rfm_scaled_df, y='Frequency',\n",
        "                box=True,\n",
        "                points='all',\n",
        "                title='Violin Plot of Frequency',\n",
        "                labels={'Frequency': 'Frequency (Number of Purchases)'},\n",
        "                width=800, height=800,color_discrete_sequence=['#4eba67']\n",
        "               )\n",
        "fig.update_traces(box_visible=True, box_fillcolor='#cf8a13')\n",
        "\n",
        "fig.show()\n",
        "\n",
        "# Violin plot for Monetary Value\n",
        "fig = px.violin(rfm_scaled_df, y='MonetaryValue',\n",
        "                box=True,\n",
        "                points='all',\n",
        "                title='Violin Plot of Monetary Value',\n",
        "                labels={'MonetaryValue': 'Monetary Value (Total Spend)'},\n",
        "                width=800, height=800,color_discrete_sequence=['#4eba67']\n",
        "               )\n",
        "fig.update_traces(box_visible=True, box_fillcolor='#cf8a13')\n",
        "\n",
        "fig.show()\n",
        "\n"
      ]
    },
    {
      "cell_type": "markdown",
      "metadata": {
        "id": "zPTTmeKXpaxj"
      },
      "source": [
        "### Apply clustering"
      ]
    },
    {
      "cell_type": "code",
      "execution_count": null,
      "metadata": {
        "colab": {
          "base_uri": "https://localhost:8080/",
          "height": 712
        },
        "id": "nwNRVhs5pEcL",
        "outputId": "e8bb0c34-954c-4922-8d94-6e9eaf75dfba"
      },
      "outputs": [],
      "source": [
        "# Store the results\n",
        "results = {'Number of Clusters':[],\n",
        "           'Average Silhouette':[],\n",
        "           'Average MSD':[]}\n",
        "\n",
        "for k in range(2,8+1):\n",
        "    # Instantiate and fit the clustering model\n",
        "    # Replace 'CLARA' with 'PAM' if you want to use PAM instead\n",
        "    print(f'Testing {k} clusters...')\n",
        "    clustering_model = CLARA(rfm_scaled_df, k, sample_size=200, num_samples=10)\n",
        "    clustering_model.fit(verbose=0)\n",
        "\n",
        "    # Evaluate the clustering\n",
        "    silhouette_avg = clustering_model.sample_silhouette_avg\n",
        "    msd_avg = clustering_model.sample_msd_avg\n",
        "    # Store the results\n",
        "    results['Number of Clusters'].append(k)\n",
        "    results['Average Silhouette'].append(silhouette_avg)\n",
        "    results['Average MSD'].append(msd_avg)\n",
        "\n",
        "    clustering_model.generate_clara_report(file_name=f'Onlineshop_{k}clusters_CLARA_Report.md',save_markdown=True,path='./Project')\n",
        "\n",
        "results_df=pd.DataFrame(results).set_index('Number of Clusters')\n",
        "results_df"
      ]
    },
    {
      "cell_type": "code",
      "execution_count": null,
      "metadata": {
        "colab": {
          "base_uri": "https://localhost:8080/",
          "height": 555
        },
        "id": "RAni07uHrYB1",
        "outputId": "eb4c989c-9965-4d6c-b2f8-6735fbde176d"
      },
      "outputs": [],
      "source": [
        "      ###elbow method\n",
        "results_df.plot(y='Average Silhouette')"
      ]
    },
    {
      "cell_type": "code",
      "execution_count": null,
      "metadata": {
        "colab": {
          "base_uri": "https://localhost:8080/",
          "height": 555
        },
        "id": "3L4Mf5Q7r38h",
        "outputId": "be78cadb-bcc9-45fb-d6f5-6221268ef1b7"
      },
      "outputs": [],
      "source": [
        "###elbow method\n",
        "\n",
        "results_df.plot(y='Average MSD')"
      ]
    },
    {
      "cell_type": "code",
      "execution_count": null,
      "metadata": {
        "colab": {
          "base_uri": "https://localhost:8080/"
        },
        "id": "uuwRqCkqpp3g",
        "outputId": "ad1c626e-90af-41d2-c0b6-d21d82b9282f"
      },
      "outputs": [],
      "source": [
        "k=3\n",
        " #best choice based on metrics\n",
        "clustering_model = CLARA(rfm_scaled_df, k, sample_size=300, num_samples=10)\n",
        "clustering_model.fit(verbose=0)\n",
        "clustering_model.generate_clara_report(file_name=f'Onlineshop_final_{k}clusters_CLARA_Report.md',save_markdown=True,path='./Project')"
      ]
    },
    {
      "cell_type": "code",
      "execution_count": null,
      "metadata": {
        "colab": {
          "base_uri": "https://localhost:8080/",
          "height": 563
        },
        "id": "MKDYpbkgqutb",
        "outputId": "ab83c1cf-2771-4ad6-8872-4718ecdb6714"
      },
      "outputs": [],
      "source": [
        "clustering_model.plot_silhouette(sample_size=10000)"
      ]
    },
    {
      "cell_type": "code",
      "execution_count": null,
      "metadata": {
        "id": "XJ_nQD3esAgo"
      },
      "outputs": [],
      "source": []
    }
  ],
  "metadata": {
    "colab": {
      "provenance": []
    },
    "kernelspec": {
      "display_name": "Python 3",
      "name": "python3"
    },
    "language_info": {
      "name": "python"
    }
  },
  "nbformat": 4,
  "nbformat_minor": 0
}
