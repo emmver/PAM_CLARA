{
  "cells": [
    {
      "cell_type": "code",
      "execution_count": null,
      "metadata": {
        "id": "MNqRvi9Sswj1"
      },
      "outputs": [],
      "source": [
        "import pandas as pd\n",
        "import numpy as np\n",
        "import matplotlib.pyplot as plt\n",
        "from mpl_toolkits.mplot3d import Axes3D  # For 3D plotting\n",
        "import matplotlib.patches as mpatches\n",
        "plt.rcParams['figure.dpi'] = 120\n",
        "from PAM import *\n",
        "from CLARA import *\n",
        "\n",
        "from sklearn.metrics.pairwise import euclidean_distances\n",
        "from sklearn.metrics import silhouette_samples\n",
        "\n",
        "def cluster_analytics(df, medoids_col='medoid', label_col='cluster_label'):\n",
        "    # Initialize the DataFrame to store cluster analytics\n",
        "    cluster_analytics = pd.DataFrame()\n",
        "\n",
        "    # 1. Cluster size\n",
        "    cluster_sizes = df[label_col].value_counts()\n",
        "    cluster_analytics['Cluster Size'] = cluster_sizes\n",
        "\n",
        "    # 2. Average silhouette per cluster\n",
        "    silhouette_vals = silhouette_samples(df.drop([medoids_col, label_col], axis=1), df[label_col])\n",
        "    df['silhouette'] = silhouette_vals\n",
        "    avg_silhouette_scores = df.groupby(label_col)['silhouette'].mean()\n",
        "    cluster_analytics['Avg Silhouette Score'] = avg_silhouette_scores\n",
        "\n",
        "    # 3. Average distance from medoid within each cluster\n",
        "    avg_distances = df.groupby(label_col).apply(lambda x: np.mean(euclidean_distances(x[~x[medoids_col]], [x[x[medoids_col]].iloc[0]])))\n",
        "    cluster_analytics['Avg Distance from Medoid'] = avg_distances\n",
        "\n",
        "    # 4. Max distance from the medoid over min distance to other medoids\n",
        "    max_min_ratios = df.groupby(label_col).apply(lambda x: max(euclidean_distances(x[~x[medoids_col]], [x[x[medoids_col]].iloc[0]])) / min(euclidean_distances([x[x[medoids_col]].iloc[0]], df[df[medoids_col]].drop(x[x[medoids_col]].index))))\n",
        "    cluster_analytics['Max/Min Distance Ratio'] = max_min_ratios.apply(lambda x: x[0])\n",
        "\n",
        "    # 5. Add any other measure as required\n",
        "\n",
        "    return cluster_analytics\n"
      ]
    },
    {
      "cell_type": "markdown",
      "metadata": {
        "id": "9GEzNTffVYFU"
      },
      "source": [
        "### PAM testing"
      ]
    },
    {
      "cell_type": "markdown",
      "metadata": {
        "id": "PX_CdQVr5qth"
      },
      "source": [
        "#### Test data"
      ]
    },
    {
      "cell_type": "code",
      "execution_count": null,
      "metadata": {
        "id": "1peUpZX0s_Ji"
      },
      "outputs": [],
      "source": [
        "df_dict={'x':[1,5,5,5,10,25,25,25,25,29],\n",
        "         'y':[4,1,2,4,4,4,6,7,8,7]}\n",
        "\n",
        "df=pd.DataFrame(df_dict)"
      ]
    },
    {
      "cell_type": "code",
      "execution_count": null,
      "metadata": {
        "colab": {
          "base_uri": "https://localhost:8080/",
          "height": 555
        },
        "id": "dTzzdvsZzql4",
        "outputId": "68165046-5a85-4de7-92ab-e51c17ea57e6"
      },
      "outputs": [],
      "source": [
        "df.plot.scatter(x='x',\n",
        "                y='y',\n",
        "                c='#157a30')"
      ]
    },
    {
      "cell_type": "code",
      "execution_count": null,
      "metadata": {
        "colab": {
          "base_uri": "https://localhost:8080/",
          "height": 276
        },
        "id": "z-zPCUCMB7nu",
        "outputId": "9491a272-d955-44cf-a5d1-44066ad6667b"
      },
      "outputs": [],
      "source": [
        "results = {'Number of Clusters': [], 'Average Silhouette': [], 'Average MSD': []}\n",
        "\n",
        "for k in range(2, 5+1):\n",
        "    print(k)\n",
        "    clustering_model = PAM(df, k)\n",
        "    clustering_model.fit(verbose=0)\n",
        "\n",
        "    # Evaluate the clustering\n",
        "    silhouette_avg, msd_avg = clustering_model.evaluate_clustering_metrics()\n",
        "\n",
        "    results['Number of Clusters'].append(k)\n",
        "    results['Average Silhouette'].append(silhouette_avg)\n",
        "    results['Average MSD'].append(msd_avg)\n",
        "\n",
        "\n",
        "results_df = pd.DataFrame(results).set_index('Number of Clusters')\n",
        "results_df"
      ]
    },
    {
      "cell_type": "code",
      "execution_count": null,
      "metadata": {
        "colab": {
          "base_uri": "https://localhost:8080/",
          "height": 667
        },
        "id": "dfAG_8nf1Uq6",
        "outputId": "cc3e8901-db3c-4899-835c-bf799c16549b"
      },
      "outputs": [],
      "source": [
        "pam=PAM(df,k=2)\n",
        "\n",
        "pam.fit(verbose=2)\n",
        "\n",
        "pam.plot_silhouette()"
      ]
    },
    {
      "cell_type": "code",
      "execution_count": null,
      "metadata": {
        "colab": {
          "base_uri": "https://localhost:8080/",
          "height": 1000
        },
        "id": "QXD5Ka9XSCmF",
        "outputId": "8cdd3c48-b2b1-4c91-fa98-534681ca315f"
      },
      "outputs": [],
      "source": [
        "pam.visualize_clusters(method='pca3',scale_factor=4)"
      ]
    },
    {
      "cell_type": "code",
      "execution_count": null,
      "metadata": {
        "colab": {
          "base_uri": "https://localhost:8080/",
          "height": 641
        },
        "id": "rGjyEYw_Wnoq",
        "outputId": "015aceda-4e02-4a04-b45f-e7a8e84554f9"
      },
      "outputs": [],
      "source": [
        "pam.generate_report(scale_factor=4,return_report=False, save_markdown=True, save_plots=True,path='./',file_name='test_data_PAM_report.md')"
      ]
    },
    {
      "cell_type": "code",
      "execution_count": null,
      "metadata": {
        "colab": {
          "base_uri": "https://localhost:8080/",
          "height": 116
        },
        "id": "_4mOTcBfINYV",
        "outputId": "bd350c4c-a3da-4116-ce5d-cc8a04a0795e"
      },
      "outputs": [],
      "source": [
        "enriched_df=pam.enrich_dataset()\n",
        "\n",
        "clustering_analytics=cluster_analytics(enriched_df)\n",
        "clustering_analytics"
      ]
    },
    {
      "cell_type": "code",
      "execution_count": null,
      "metadata": {
        "colab": {
          "base_uri": "https://localhost:8080/",
          "height": 376
        },
        "id": "QRfLTApbIoNb",
        "outputId": "e42f5b52-9a94-46bb-a75d-23cd1438d880"
      },
      "outputs": [],
      "source": [
        "enriched_df"
      ]
    },
    {
      "cell_type": "code",
      "execution_count": null,
      "metadata": {
        "colab": {
          "base_uri": "https://localhost:8080/",
          "height": 206
        },
        "id": "-mCMPj3ms_Oj",
        "outputId": "91ad6698-bc83-41fa-d235-22daf22b5d98"
      },
      "outputs": [],
      "source": [
        "rupsini_dict = {\n",
        "    'x': [4,5,10,9,13,13,12,15,18,19,22,27,28,24,27,28,30,31,32,36,28,32,35,33,38,41,38,38,32,34,44,\n",
        "          44,44,46,47,49,50,53,52,55,54,60,63,86,85,85,78,74,97,98,98,99,99,101,108,110,108,\n",
        "          111,115,117,70,77,83,61,69,78,66,58,64,69,66,61,76,72,64],\n",
        "    'y':[53,63,59,77,49,69,88,75,61,65,74,72,76,58,55,60,52,60,61,72,147,149,\n",
        "        153,154,151,150,145,143,143,141,156,149,143,142,149,152,142,144,152,155,\n",
        "        124,136,139,132,115,96,94,96,122,116,124,119,128,115,111,111,116,126,117,\n",
        "        115,4,12,21,15,15,16,18,13,20,21,23,25,27,31,30]\n",
        "}\n",
        "rupsini_df=pd.DataFrame(rupsini_dict)\n",
        "rupsini_df.head()"
      ]
    },
    {
      "cell_type": "code",
      "execution_count": null,
      "metadata": {
        "colab": {
          "base_uri": "https://localhost:8080/",
          "height": 555
        },
        "id": "QqGcfal983w4",
        "outputId": "51a7b135-01af-4c2e-e446-b70ba76a4003"
      },
      "outputs": [],
      "source": [
        "rupsini_df.plot.scatter(x='x',\n",
        "                y='y',\n",
        "                c='#157a30')"
      ]
    },
    {
      "cell_type": "code",
      "execution_count": null,
      "metadata": {
        "colab": {
          "base_uri": "https://localhost:8080/",
          "height": 519
        },
        "id": "mAAE31H2Lw4G",
        "outputId": "50d59aa8-5c40-4466-b383-d8dcd2452cf8"
      },
      "outputs": [],
      "source": [
        "results = {'Number of Clusters': [], 'Average Silhouette': [], 'Average MSD': []}\n",
        "\n",
        "for k in range(2, 10+1):\n",
        "    print(k)\n",
        "    clustering_model = PAM(rupsini_df, k)\n",
        "    clustering_model.fit(verbose=0)\n",
        "\n",
        "    # Evaluate the clustering\n",
        "    silhouette_avg, msd_avg = clustering_model.evaluate_clustering_metrics()\n",
        "\n",
        "    results['Number of Clusters'].append(k)\n",
        "    results['Average Silhouette'].append(silhouette_avg)\n",
        "    results['Average MSD'].append(msd_avg)\n",
        "\n",
        "results_df = pd.DataFrame(results).set_index('Number of Clusters')\n",
        "results_df"
      ]
    },
    {
      "cell_type": "code",
      "execution_count": null,
      "metadata": {
        "colab": {
          "base_uri": "https://localhost:8080/",
          "height": 702
        },
        "id": "SMrz9LCys_Qq",
        "outputId": "acd9024c-3ff5-4b27-d9c1-1d67d6a8bfa8"
      },
      "outputs": [],
      "source": [
        "pam=PAM(rupsini_df,k=4)\n",
        "\n",
        "pam.fit(verbose=2)\n",
        "\n",
        "pam.plot_silhouette()"
      ]
    },
    {
      "cell_type": "code",
      "execution_count": null,
      "metadata": {
        "colab": {
          "base_uri": "https://localhost:8080/",
          "height": 1000
        },
        "id": "fKNB-VbhYPOt",
        "outputId": "f6999bb9-74a8-4b8f-cce9-f3c40a29003a"
      },
      "outputs": [],
      "source": [
        "pam.visualize_clusters(scale_factor=5)"
      ]
    },
    {
      "cell_type": "code",
      "execution_count": null,
      "metadata": {
        "colab": {
          "base_uri": "https://localhost:8080/"
        },
        "id": "z4tY10E4Cs-5",
        "outputId": "5523d6c5-f01b-423e-a086-e9143df7661a"
      },
      "outputs": [],
      "source": [
        "pam.generate_report(scale_factor=4,return_report=False, save_markdown=True, save_plots=True,path='/content/drive/MyDrive/MBA/Business Analytics/Project',file_name='rupsini_PAM_report.md')"
      ]
    },
    {
      "cell_type": "markdown",
      "metadata": {
        "id": "Q-Rs3EaFZfcy"
      },
      "source": [
        "### CLARA Testing"
      ]
    },
    {
      "cell_type": "markdown",
      "metadata": {
        "id": "gXbF9u6ox4Ph"
      },
      "source": [
        "#### Generate test dataset"
      ]
    },
    {
      "cell_type": "code",
      "execution_count": null,
      "metadata": {
        "colab": {
          "base_uri": "https://localhost:8080/",
          "height": 560
        },
        "id": "bmoa5oEHdm6w",
        "outputId": "c49dcc76-1d36-4e78-d59c-fd9c103f0090"
      },
      "outputs": [],
      "source": [
        "## Generate test dataset\n",
        "\n",
        "# Function to generate samples\n",
        "def generate_samples(mean_x, mean_y, sigma, n):\n",
        "    mean = [mean_x, mean_y]\n",
        "    cov = [[sigma**2, 0], [0, sigma**2]]  # Diagonal covariance, for spherical distribution\n",
        "    return np.random.multivariate_normal(mean, cov, n)\n",
        "\n",
        "# Generating samples for each set of parameters\n",
        "data1 = generate_samples(0, 10, 1.7, 120)\n",
        "data2 = generate_samples(20, 12, 0.7, 60)\n",
        "data3 = generate_samples(10, 20, 1.0, 20)\n",
        "\n",
        "# Creating DataFrames\n",
        "df1 = pd.DataFrame(data1, columns=['x', 'y'])\n",
        "df2 = pd.DataFrame(data2, columns=['x', 'y'])\n",
        "df3 = pd.DataFrame(data3, columns=['x', 'y'])\n",
        "\n",
        "# Concatenating into a single DataFrame\n",
        "clara_df = pd.concat([df1, df2, df3]).reset_index(drop=True)#.sample(frac=1)\n",
        "\n",
        "# Display the DataFrame\n",
        "clara_df.plot.scatter(x='x',\n",
        "                y='y',\n",
        "                c='#157a30')"
      ]
    },
    {
      "cell_type": "markdown",
      "metadata": {
        "id": "ghDid7bRx6dg"
      },
      "source": [
        "### Get optimal number of clusters"
      ]
    },
    {
      "cell_type": "code",
      "execution_count": null,
      "metadata": {
        "colab": {
          "base_uri": "https://localhost:8080/",
          "height": 489
        },
        "id": "4y_lhqu-b5BS",
        "outputId": "13aed6d0-65a1-421c-f4e8-72bc05f85a58"
      },
      "outputs": [],
      "source": [
        "# Store the results\n",
        "results = {'Number of Clusters':[],\n",
        "           'Average Silhouette':[],\n",
        "           'Average MSD':[]}\n",
        "\n",
        "for k in range(2,10+1):\n",
        "    # Instantiate and fit the clustering model\n",
        "    # Replace 'CLARA' with 'PAM' if you want to use PAM instead\n",
        "    clustering_model = CLARA(clara_df, k, num_samples=5)\n",
        "    clustering_model.fit(verbose=0)\n",
        "\n",
        "    # Evaluate the clustering\n",
        "    silhouette_avg = clustering_model.sample_silhouette_avg\n",
        "    msd_avg = clustering_model.sample_msd_avg\n",
        "    # Store the results\n",
        "    results['Number of Clusters'].append(k)\n",
        "    results['Average Silhouette'].append(silhouette_avg)\n",
        "    results['Average MSD'].append(msd_avg)\n",
        "\n",
        "results_df=pd.DataFrame(results).set_index('Number of Clusters')\n",
        "results_df"
      ]
    },
    {
      "cell_type": "markdown",
      "metadata": {
        "id": "MO_r3Lu7x9WU"
      },
      "source": [
        "### Run clustering"
      ]
    },
    {
      "cell_type": "code",
      "execution_count": null,
      "metadata": {
        "colab": {
          "base_uri": "https://localhost:8080/"
        },
        "id": "VKB2_L3RtNSB",
        "outputId": "22bfd9c8-8e0c-42c9-a36c-49b49af911a0"
      },
      "outputs": [],
      "source": [
        "k=3 #best choice based on metrics\n",
        "clustering_model = CLARA(clara_df, k, num_samples=10)\n",
        "clustering_model.fit(verbose=1)\n",
        "clustering_model.generate_clara_report(file_name=f'Sph_Bivar_{k}clusters_CLARA_Report.md',save_markdown=True,path='./')"
      ]
    },
    {
      "cell_type": "code",
      "execution_count": null,
      "metadata": {
        "colab": {
          "base_uri": "https://localhost:8080/",
          "height": 737
        },
        "id": "hyc76IKVY4gh",
        "outputId": "d5597afb-a05e-49d1-99d5-0e2776ac6342"
      },
      "outputs": [],
      "source": [
        "clustering_model.visualize_clusters(scale_factor=5)"
      ]
    },
    {
      "cell_type": "code",
      "execution_count": null,
      "metadata": {
        "colab": {
          "base_uri": "https://localhost:8080/",
          "height": 563
        },
        "id": "lRK55HSkV_QY",
        "outputId": "7fe63560-dd29-4acd-dade-bd61c2de9dcf"
      },
      "outputs": [],
      "source": [
        "clustering_model.plot_silhouette()"
      ]
    },
    {
      "cell_type": "markdown",
      "metadata": {
        "id": "4LfaG9nkx0VO"
      },
      "source": [
        "#### Cluster analysis"
      ]
    },
    {
      "cell_type": "code",
      "execution_count": null,
      "metadata": {
        "id": "bWMYCn2wxx-y"
      },
      "outputs": [],
      "source": [
        "from sklearn.metrics.pairwise import euclidean_distances\n",
        "from sklearn.metrics import silhouette_samples\n",
        "\n",
        "def cluster_analytics(df, medoids_col='medoid', label_col='cluster_label'):\n",
        "    # Initialize the DataFrame to store cluster analytics\n",
        "    cluster_analytics = pd.DataFrame()\n",
        "\n",
        "    # 1. Cluster size\n",
        "    cluster_sizes = df[label_col].value_counts()\n",
        "    cluster_analytics['Cluster Size'] = cluster_sizes\n",
        "\n",
        "    # 2. Average silhouette per cluster\n",
        "    silhouette_vals = silhouette_samples(df.drop([medoids_col, label_col], axis=1), df[label_col])\n",
        "    df['silhouette'] = silhouette_vals\n",
        "    avg_silhouette_scores = df.groupby(label_col)['silhouette'].mean()\n",
        "    cluster_analytics['Avg Silhouette Score'] = avg_silhouette_scores\n",
        "\n",
        "    # 3. Average distance from medoid within each cluster\n",
        "    avg_distances = df.groupby(label_col).apply(lambda x: np.mean(euclidean_distances(x[~x[medoids_col]], [x[x[medoids_col]].iloc[0]])))\n",
        "    cluster_analytics['Avg Distance from Medoid'] = avg_distances\n",
        "\n",
        "    # 4. Max distance from the medoid over min distance to other medoids\n",
        "    max_min_ratios = df.groupby(label_col).apply(lambda x: max(euclidean_distances(x[~x[medoids_col]], [x[x[medoids_col]].iloc[0]])) / min(euclidean_distances([x[x[medoids_col]].iloc[0]], df[df[medoids_col]].drop(x[x[medoids_col]].index))))\n",
        "    cluster_analytics['Max/Min Distance Ratio'] = max_min_ratios.apply(lambda x: x[0])\n",
        "\n",
        "    # 5. Add any other measure as required\n",
        "\n",
        "    return cluster_analytics"
      ]
    },
    {
      "cell_type": "code",
      "execution_count": null,
      "metadata": {
        "colab": {
          "base_uri": "https://localhost:8080/",
          "height": 148
        },
        "id": "87h_uPjuWO9_",
        "outputId": "9987ae7a-e778-4ef7-8565-09a13dce3123"
      },
      "outputs": [],
      "source": [
        "enriched_dataset=clustering_model.enrich_dataset()\n",
        "enriched_dataset.head(3)"
      ]
    },
    {
      "cell_type": "code",
      "execution_count": null,
      "metadata": {
        "colab": {
          "base_uri": "https://localhost:8080/",
          "height": 148
        },
        "id": "iZJa9WoQi1aR",
        "outputId": "742c0c40-13cd-4abd-cdd4-ca21cd73281c"
      },
      "outputs": [],
      "source": [
        "cluster_analysis_df=cluster_analytics(enriched_dataset)\n",
        "cluster_analysis_df"
      ]
    }
  ],
  "metadata": {
    "colab": {
      "provenance": []
    },
    "kernelspec": {
      "display_name": "Python 3",
      "name": "python3"
    },
    "language_info": {
      "name": "python"
    }
  },
  "nbformat": 4,
  "nbformat_minor": 0
}
